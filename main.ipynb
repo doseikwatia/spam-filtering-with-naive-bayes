{
 "cells": [
  {
   "cell_type": "code",
   "execution_count": 1,
   "metadata": {},
   "outputs": [],
   "source": [
    "import numpy as np\n",
    "import pandas as pd\n",
    "import re\n",
    "from tqdm import tqdm"
   ]
  },
  {
   "cell_type": "code",
   "execution_count": 2,
   "metadata": {},
   "outputs": [],
   "source": [
    "SPAM = 'spam'\n",
    "HAM = 'ham'\n",
    "LABEL = 'label'\n",
    "MESSAGE = 'message'"
   ]
  },
  {
   "cell_type": "markdown",
   "metadata": {},
   "source": [
    "A storage class for the spam filter. This implementation stores data in python dictionary however\n",
    "it can be implemented to store the data in a database table or file. The storage class keeps track \n",
    "of the number of messages that have been classified as either HAM or SPAM. It also stores the count \n",
    "of words belonging to each category and is able to give you the number of words belonging to each \n",
    "category in a sentence."
   ]
  },
  {
   "cell_type": "code",
   "execution_count": 3,
   "metadata": {},
   "outputs": [],
   "source": [
    "class DataStore:\n",
    "\n",
    "    def __init__(self):\n",
    "        self._storage = {}\n",
    "        self._num_spam = 0\n",
    "        self._num_ham = 0\n",
    "        \n",
    "        self._non_word_re = re.compile('[^\\\\w|\\\\S]',re.MULTILINE)\n",
    "        self._tag_re = re.compile('<\\\\/?[\\\\w|\\\\s|\\\\=|\\\\:]+>',re.MULTILINE)\n",
    "        self._word_re = re.compile('[a-zA-Z]+')\n",
    "        \n",
    "    def add_spam(self, message):\n",
    "        self._add_entry(message,SPAM)\n",
    "        \n",
    "    def add_ham(self, message):\n",
    "        self._add_entry(message,HAM)\n",
    "        \n",
    "    def _add_entry(self, message, label):\n",
    "        words = self.get_words(message)\n",
    "        for word in words:\n",
    "            key = (label, word)\n",
    "            count = self._storage.get(key, 0)\n",
    "            self._storage[key] = count + 1\n",
    "            \n",
    "        if label == SPAM:\n",
    "            self._num_spam += 1\n",
    "        elif label == HAM:\n",
    "            self._num_ham +=1\n",
    "    \n",
    "    def get_word_frequency(self, message, label, epsilon):\n",
    "        words = self.get_words(message)\n",
    "        freq = {w:self._storage.get((label, w),epsilon)  for w in words}\n",
    "        return freq\n",
    "    \n",
    "    @property\n",
    "    def num_spam(self):\n",
    "        return self._num_spam\n",
    "    \n",
    "    @property\n",
    "    def num_ham(self):\n",
    "        return self._num_ham\n",
    "    \n",
    "    @property\n",
    "    def num_messages(self):\n",
    "        return self._num_ham + self._num_spam\n",
    "    \n",
    "    def get_words(self,message):\n",
    "        words = []\n",
    "        for line in self._non_word_re.split(' '.join(self._tag_re.split(message))):\n",
    "            for word in line.split(' '):\n",
    "                word = word.strip()\n",
    "                for word in self._word_re.findall(word):\n",
    "                    if len(word)==0:\n",
    "                        continue\n",
    "                    words.append(word)\n",
    "        return words"
   ]
  },
  {
   "cell_type": "markdown",
   "metadata": {},
   "source": [
    "This implement a spam filter using the naive bayes approach. It does that by comparing $P_{spam}$ with $P_{ham}$ where \n",
    "$$P_{spam}=\\prod_{i=0}^{n} p(word_i|spam\\_message)$$ \n",
    "$$P_{ham}=\\prod_{i=0}^{n} p(word_i|ham\\_message)$$ \n"
   ]
  },
  {
   "cell_type": "code",
   "execution_count": 4,
   "metadata": {},
   "outputs": [],
   "source": [
    "class NaiveBayesFilter:\n",
    "    def __init__(self, store:DataStore):\n",
    "        self._store = store\n",
    "        self._epsilon = 1e-6\n",
    "    def spamminess(self, message):\n",
    "        freq = self._store.get_word_frequency(message, SPAM, self._epsilon)\n",
    "        p_spam = np.array(list(freq.values()))/self._store.num_spam\n",
    "        p_spam = (np.log(p_spam).sum() + np.log(self._store.num_spam / self._store.num_messages)).item()\n",
    "        return p_spam\n",
    "    \n",
    "    def hamminess(self, message):\n",
    "        freq = self._store.get_word_frequency(message, HAM, self._epsilon)\n",
    "        p_ham = np.array(list(freq.values()))/self._store.num_ham\n",
    "        p_ham = (np.log(p_ham).sum() + np.log(self._store.num_ham / self._store.num_messages)).item()\n",
    "        return p_ham\n",
    "    \n",
    "    def is_spam(self, message):\n",
    "        p_spam = self.spamminess(message)\n",
    "        p_ham  = self.hamminess(message)\n",
    "        result = p_spam > p_ham\n",
    "        return result"
   ]
  },
  {
   "cell_type": "code",
   "execution_count": 5,
   "metadata": {},
   "outputs": [],
   "source": [
    "dataset = pd.read_csv('data/spam.csv',encoding='latin',usecols=['v1','v2'])"
   ]
  },
  {
   "cell_type": "code",
   "execution_count": 6,
   "metadata": {},
   "outputs": [],
   "source": [
    "dataset.rename(columns={\n",
    "    'v1':LABEL,\n",
    "    'v2':MESSAGE\n",
    "},inplace=True)"
   ]
  },
  {
   "cell_type": "code",
   "execution_count": 7,
   "metadata": {},
   "outputs": [
    {
     "data": {
      "text/html": [
       "<div>\n",
       "<style scoped>\n",
       "    .dataframe tbody tr th:only-of-type {\n",
       "        vertical-align: middle;\n",
       "    }\n",
       "\n",
       "    .dataframe tbody tr th {\n",
       "        vertical-align: top;\n",
       "    }\n",
       "\n",
       "    .dataframe thead th {\n",
       "        text-align: right;\n",
       "    }\n",
       "</style>\n",
       "<table border=\"1\" class=\"dataframe\">\n",
       "  <thead>\n",
       "    <tr style=\"text-align: right;\">\n",
       "      <th></th>\n",
       "      <th>label</th>\n",
       "      <th>message</th>\n",
       "    </tr>\n",
       "  </thead>\n",
       "  <tbody>\n",
       "    <tr>\n",
       "      <th>0</th>\n",
       "      <td>ham</td>\n",
       "      <td>Go until jurong point, crazy.. Available only ...</td>\n",
       "    </tr>\n",
       "    <tr>\n",
       "      <th>1</th>\n",
       "      <td>ham</td>\n",
       "      <td>Ok lar... Joking wif u oni...</td>\n",
       "    </tr>\n",
       "    <tr>\n",
       "      <th>2</th>\n",
       "      <td>spam</td>\n",
       "      <td>Free entry in 2 a wkly comp to win FA Cup fina...</td>\n",
       "    </tr>\n",
       "    <tr>\n",
       "      <th>3</th>\n",
       "      <td>ham</td>\n",
       "      <td>U dun say so early hor... U c already then say...</td>\n",
       "    </tr>\n",
       "    <tr>\n",
       "      <th>4</th>\n",
       "      <td>ham</td>\n",
       "      <td>Nah I don't think he goes to usf, he lives aro...</td>\n",
       "    </tr>\n",
       "  </tbody>\n",
       "</table>\n",
       "</div>"
      ],
      "text/plain": [
       "  label                                            message\n",
       "0   ham  Go until jurong point, crazy.. Available only ...\n",
       "1   ham                      Ok lar... Joking wif u oni...\n",
       "2  spam  Free entry in 2 a wkly comp to win FA Cup fina...\n",
       "3   ham  U dun say so early hor... U c already then say...\n",
       "4   ham  Nah I don't think he goes to usf, he lives aro..."
      ]
     },
     "execution_count": 7,
     "metadata": {},
     "output_type": "execute_result"
    }
   ],
   "source": [
    "dataset.head(5)"
   ]
  },
  {
   "cell_type": "code",
   "execution_count": 8,
   "metadata": {},
   "outputs": [
    {
     "data": {
      "text/html": [
       "<div>\n",
       "<style scoped>\n",
       "    .dataframe tbody tr th:only-of-type {\n",
       "        vertical-align: middle;\n",
       "    }\n",
       "\n",
       "    .dataframe tbody tr th {\n",
       "        vertical-align: top;\n",
       "    }\n",
       "\n",
       "    .dataframe thead th {\n",
       "        text-align: right;\n",
       "    }\n",
       "</style>\n",
       "<table border=\"1\" class=\"dataframe\">\n",
       "  <thead>\n",
       "    <tr style=\"text-align: right;\">\n",
       "      <th></th>\n",
       "      <th>message</th>\n",
       "    </tr>\n",
       "    <tr>\n",
       "      <th>label</th>\n",
       "      <th></th>\n",
       "    </tr>\n",
       "  </thead>\n",
       "  <tbody>\n",
       "    <tr>\n",
       "      <th>ham</th>\n",
       "      <td>4825</td>\n",
       "    </tr>\n",
       "    <tr>\n",
       "      <th>spam</th>\n",
       "      <td>747</td>\n",
       "    </tr>\n",
       "  </tbody>\n",
       "</table>\n",
       "</div>"
      ],
      "text/plain": [
       "       message\n",
       "label         \n",
       "ham       4825\n",
       "spam       747"
      ]
     },
     "execution_count": 8,
     "metadata": {},
     "output_type": "execute_result"
    }
   ],
   "source": [
    "dataset.groupby(by=LABEL).count()"
   ]
  },
  {
   "cell_type": "code",
   "execution_count": 9,
   "metadata": {},
   "outputs": [
    {
     "name": "stdout",
     "output_type": "stream",
     "text": [
      " \n",
      "Train Stats\n",
      "       message\n",
      "label         \n",
      "ham        600\n",
      "spam       600\n",
      "\n",
      "Test Stats\n",
      "       message\n",
      "label         \n",
      "ham       4225\n",
      "spam       147\n",
      "\n"
     ]
    }
   ],
   "source": [
    "TRAIN_SIZE = 600\n",
    "train_df = pd.concat([dataset[dataset['label']=='spam'][:TRAIN_SIZE],\n",
    "                    dataset[dataset['label']=='ham'][:TRAIN_SIZE]])\n",
    "\n",
    "test_df = pd.concat([dataset[dataset['label']=='spam'][TRAIN_SIZE:],\n",
    "                    dataset[dataset['label']=='ham'][TRAIN_SIZE:]])\n",
    "\n",
    "print(f''' \n",
    "Train Stats\n",
    "{train_df.groupby(by='label').count()}\n",
    "\n",
    "Test Stats\n",
    "{test_df.groupby(by='label').count()}\n",
    "''')"
   ]
  },
  {
   "cell_type": "code",
   "execution_count": 10,
   "metadata": {},
   "outputs": [],
   "source": [
    "store = DataStore()\n",
    "filter = NaiveBayesFilter(store=store)"
   ]
  },
  {
   "cell_type": "code",
   "execution_count": 11,
   "metadata": {},
   "outputs": [
    {
     "name": "stderr",
     "output_type": "stream",
     "text": [
      "0it [00:00, ?it/s]"
     ]
    },
    {
     "name": "stderr",
     "output_type": "stream",
     "text": [
      "1200it [00:00, 8185.01it/s]\n"
     ]
    }
   ],
   "source": [
    "for i,row in tqdm(train_df.iterrows()):\n",
    "    label = row[LABEL]\n",
    "    message = row[MESSAGE]\n",
    "    if label == SPAM:\n",
    "        store.add_spam(message)\n",
    "    elif label == HAM:\n",
    "        store.add_ham(message)"
   ]
  },
  {
   "cell_type": "code",
   "execution_count": 12,
   "metadata": {},
   "outputs": [
    {
     "data": {
      "text/plain": [
       "True"
      ]
     },
     "execution_count": 12,
     "metadata": {},
     "output_type": "execute_result"
    }
   ],
   "source": [
    "filter.is_spam('Free entry in 2 a wkly comp to win FA Cup fina.')"
   ]
  },
  {
   "cell_type": "code",
   "execution_count": 13,
   "metadata": {},
   "outputs": [],
   "source": [
    "accuracy = (test_df[LABEL]==test_df['message'].apply(lambda m: SPAM if filter.is_spam(m) else HAM)).mean().item()"
   ]
  },
  {
   "cell_type": "code",
   "execution_count": 14,
   "metadata": {},
   "outputs": [
    {
     "name": "stdout",
     "output_type": "stream",
     "text": [
      "Accuracy: 92.34%\n"
     ]
    }
   ],
   "source": [
    "print(f'Accuracy: {np.round(accuracy*100,2)}%')"
   ]
  },
  {
   "cell_type": "markdown",
   "metadata": {},
   "source": [
    "### Conclustion\n",
    "I am very impressed about the performance of the filter inspite of its simplicity."
   ]
  }
 ],
 "metadata": {
  "kernelspec": {
   "display_name": "dev",
   "language": "python",
   "name": "python3"
  },
  "language_info": {
   "codemirror_mode": {
    "name": "ipython",
    "version": 3
   },
   "file_extension": ".py",
   "mimetype": "text/x-python",
   "name": "python",
   "nbconvert_exporter": "python",
   "pygments_lexer": "ipython3",
   "version": "3.12.5"
  }
 },
 "nbformat": 4,
 "nbformat_minor": 2
}
